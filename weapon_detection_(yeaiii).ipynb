{
  "nbformat": 4,
  "nbformat_minor": 0,
  "metadata": {
    "colab": {
      "provenance": [],
      "gpuType": "T4",
      "include_colab_link": true
    },
    "kernelspec": {
      "name": "python3",
      "display_name": "Python 3"
    },
    "language_info": {
      "name": "python"
    },
    "accelerator": "GPU"
  },
  "cells": [
    {
      "cell_type": "markdown",
      "metadata": {
        "id": "view-in-github",
        "colab_type": "text"
      },
      "source": [
        "<a href=\"https://colab.research.google.com/github/JARIN-TIAS/weapon-detection-with-roboflow/blob/main/weapon_detection_(yeaiii).ipynb\" target=\"_parent\"><img src=\"https://colab.research.google.com/assets/colab-badge.svg\" alt=\"Open In Colab\"/></a>"
      ]
    },
    {
      "cell_type": "code",
      "execution_count": 1,
      "metadata": {
        "colab": {
          "base_uri": "https://localhost:8080/"
        },
        "id": "pmM1dop72HfK",
        "outputId": "90654797-688b-4311-8f3f-4dc6ca64b3f6"
      },
      "outputs": [
        {
          "output_type": "stream",
          "name": "stdout",
          "text": [
            "Cloning into 'weapon-detection-with-roboflow'...\n",
            "remote: Enumerating objects: 184, done.\u001b[K\n",
            "remote: Counting objects: 100% (184/184), done.\u001b[K\n",
            "remote: Compressing objects: 100% (180/180), done.\u001b[K\n",
            "remote: Total 184 (delta 51), reused 0 (delta 0), pack-reused 0 (from 0)\u001b[K\n",
            "Receiving objects: 100% (184/184), 34.01 MiB | 12.79 MiB/s, done.\n",
            "Resolving deltas: 100% (51/51), done.\n"
          ]
        }
      ],
      "source": [
        "!git clone https://github.com/JARIN-TIAS/weapon-detection-with-roboflow.git"
      ]
    },
    {
      "cell_type": "code",
      "source": [
        "cd weapon-detection-with-roboflow"
      ],
      "metadata": {
        "colab": {
          "base_uri": "https://localhost:8080/"
        },
        "id": "m88eAGZXm_a2",
        "outputId": "1e07537e-7611-435d-f859-2dc62deb562f"
      },
      "execution_count": 2,
      "outputs": [
        {
          "output_type": "stream",
          "name": "stdout",
          "text": [
            "/content/weapon-detection-with-roboflow\n"
          ]
        }
      ]
    },
    {
      "cell_type": "code",
      "source": [
        "!pip install -r requirements.txt"
      ],
      "metadata": {
        "colab": {
          "base_uri": "https://localhost:8080/",
          "height": 1000
        },
        "id": "U_f5Mx7wofq-",
        "outputId": "f4c7466d-208b-48d4-a17b-255623fe0c6a"
      },
      "execution_count": 3,
      "outputs": [
        {
          "output_type": "stream",
          "name": "stdout",
          "text": [
            "Collecting ultralytics==8.0.3 (from -r requirements.txt (line 4))\n",
            "  Downloading ultralytics-8.0.3-py3-none-any.whl.metadata (23 kB)\n",
            "Collecting hydra-core>=1.2.0 (from -r requirements.txt (line 5))\n",
            "  Downloading hydra_core-1.3.2-py3-none-any.whl.metadata (5.5 kB)\n",
            "Requirement already satisfied: matplotlib>=3.2.2 in /usr/local/lib/python3.10/dist-packages (from -r requirements.txt (line 6)) (3.8.0)\n",
            "Requirement already satisfied: numpy>=1.18.5 in /usr/local/lib/python3.10/dist-packages (from -r requirements.txt (line 7)) (1.26.4)\n",
            "Requirement already satisfied: opencv-python>=4.1.1 in /usr/local/lib/python3.10/dist-packages (from -r requirements.txt (line 8)) (4.10.0.84)\n",
            "Requirement already satisfied: Pillow>=7.1.2 in /usr/local/lib/python3.10/dist-packages (from -r requirements.txt (line 9)) (11.0.0)\n",
            "Requirement already satisfied: PyYAML>=5.3.1 in /usr/local/lib/python3.10/dist-packages (from -r requirements.txt (line 10)) (6.0.2)\n",
            "Requirement already satisfied: requests>=2.23.0 in /usr/local/lib/python3.10/dist-packages (from -r requirements.txt (line 11)) (2.32.3)\n",
            "Requirement already satisfied: scipy>=1.4.1 in /usr/local/lib/python3.10/dist-packages (from -r requirements.txt (line 12)) (1.13.1)\n",
            "Requirement already satisfied: torch>=1.7.0 in /usr/local/lib/python3.10/dist-packages (from -r requirements.txt (line 13)) (2.5.1+cu121)\n",
            "Requirement already satisfied: torchvision>=0.8.1 in /usr/local/lib/python3.10/dist-packages (from -r requirements.txt (line 14)) (0.20.1+cu121)\n",
            "Requirement already satisfied: tqdm>=4.64.0 in /usr/local/lib/python3.10/dist-packages (from -r requirements.txt (line 15)) (4.67.1)\n",
            "Requirement already satisfied: tensorboard>=2.4.1 in /usr/local/lib/python3.10/dist-packages (from -r requirements.txt (line 18)) (2.17.1)\n",
            "Requirement already satisfied: pandas>=1.1.4 in /usr/local/lib/python3.10/dist-packages (from -r requirements.txt (line 22)) (2.2.2)\n",
            "Requirement already satisfied: seaborn>=0.11.0 in /usr/local/lib/python3.10/dist-packages (from -r requirements.txt (line 23)) (0.13.2)\n",
            "Requirement already satisfied: ipython in /usr/local/lib/python3.10/dist-packages (from -r requirements.txt (line 26)) (7.34.0)\n",
            "Requirement already satisfied: psutil in /usr/local/lib/python3.10/dist-packages (from -r requirements.txt (line 27)) (5.9.5)\n",
            "Collecting thop>=0.1.1 (from -r requirements.txt (line 28))\n",
            "  Downloading thop-0.1.1.post2209072238-py3-none-any.whl.metadata (2.7 kB)\n",
            "Requirement already satisfied: GitPython>=3.1.24 in /usr/local/lib/python3.10/dist-packages (from -r requirements.txt (line 31)) (3.1.43)\n",
            "Collecting omegaconf<2.4,>=2.2 (from hydra-core>=1.2.0->-r requirements.txt (line 5))\n",
            "  Downloading omegaconf-2.3.0-py3-none-any.whl.metadata (3.9 kB)\n",
            "Collecting antlr4-python3-runtime==4.9.* (from hydra-core>=1.2.0->-r requirements.txt (line 5))\n",
            "  Downloading antlr4-python3-runtime-4.9.3.tar.gz (117 kB)\n",
            "\u001b[2K     \u001b[90m━━━━━━━━━━━━━━━━━━━━━━━━━━━━━━━━━━━━━━━━\u001b[0m \u001b[32m117.0/117.0 kB\u001b[0m \u001b[31m7.6 MB/s\u001b[0m eta \u001b[36m0:00:00\u001b[0m\n",
            "\u001b[?25h  Preparing metadata (setup.py) ... \u001b[?25l\u001b[?25hdone\n",
            "Requirement already satisfied: packaging in /usr/local/lib/python3.10/dist-packages (from hydra-core>=1.2.0->-r requirements.txt (line 5)) (24.2)\n",
            "Requirement already satisfied: contourpy>=1.0.1 in /usr/local/lib/python3.10/dist-packages (from matplotlib>=3.2.2->-r requirements.txt (line 6)) (1.3.1)\n",
            "Requirement already satisfied: cycler>=0.10 in /usr/local/lib/python3.10/dist-packages (from matplotlib>=3.2.2->-r requirements.txt (line 6)) (0.12.1)\n",
            "Requirement already satisfied: fonttools>=4.22.0 in /usr/local/lib/python3.10/dist-packages (from matplotlib>=3.2.2->-r requirements.txt (line 6)) (4.55.3)\n",
            "Requirement already satisfied: kiwisolver>=1.0.1 in /usr/local/lib/python3.10/dist-packages (from matplotlib>=3.2.2->-r requirements.txt (line 6)) (1.4.7)\n",
            "Requirement already satisfied: pyparsing>=2.3.1 in /usr/local/lib/python3.10/dist-packages (from matplotlib>=3.2.2->-r requirements.txt (line 6)) (3.2.0)\n",
            "Requirement already satisfied: python-dateutil>=2.7 in /usr/local/lib/python3.10/dist-packages (from matplotlib>=3.2.2->-r requirements.txt (line 6)) (2.8.2)\n",
            "Requirement already satisfied: charset-normalizer<4,>=2 in /usr/local/lib/python3.10/dist-packages (from requests>=2.23.0->-r requirements.txt (line 11)) (3.4.0)\n",
            "Requirement already satisfied: idna<4,>=2.5 in /usr/local/lib/python3.10/dist-packages (from requests>=2.23.0->-r requirements.txt (line 11)) (3.10)\n",
            "Requirement already satisfied: urllib3<3,>=1.21.1 in /usr/local/lib/python3.10/dist-packages (from requests>=2.23.0->-r requirements.txt (line 11)) (2.2.3)\n",
            "Requirement already satisfied: certifi>=2017.4.17 in /usr/local/lib/python3.10/dist-packages (from requests>=2.23.0->-r requirements.txt (line 11)) (2024.12.14)\n",
            "Requirement already satisfied: filelock in /usr/local/lib/python3.10/dist-packages (from torch>=1.7.0->-r requirements.txt (line 13)) (3.16.1)\n",
            "Requirement already satisfied: typing-extensions>=4.8.0 in /usr/local/lib/python3.10/dist-packages (from torch>=1.7.0->-r requirements.txt (line 13)) (4.12.2)\n",
            "Requirement already satisfied: networkx in /usr/local/lib/python3.10/dist-packages (from torch>=1.7.0->-r requirements.txt (line 13)) (3.4.2)\n",
            "Requirement already satisfied: jinja2 in /usr/local/lib/python3.10/dist-packages (from torch>=1.7.0->-r requirements.txt (line 13)) (3.1.4)\n",
            "Requirement already satisfied: fsspec in /usr/local/lib/python3.10/dist-packages (from torch>=1.7.0->-r requirements.txt (line 13)) (2024.10.0)\n",
            "Requirement already satisfied: sympy==1.13.1 in /usr/local/lib/python3.10/dist-packages (from torch>=1.7.0->-r requirements.txt (line 13)) (1.13.1)\n",
            "Requirement already satisfied: mpmath<1.4,>=1.1.0 in /usr/local/lib/python3.10/dist-packages (from sympy==1.13.1->torch>=1.7.0->-r requirements.txt (line 13)) (1.3.0)\n",
            "Requirement already satisfied: absl-py>=0.4 in /usr/local/lib/python3.10/dist-packages (from tensorboard>=2.4.1->-r requirements.txt (line 18)) (1.4.0)\n",
            "Requirement already satisfied: grpcio>=1.48.2 in /usr/local/lib/python3.10/dist-packages (from tensorboard>=2.4.1->-r requirements.txt (line 18)) (1.68.1)\n",
            "Requirement already satisfied: markdown>=2.6.8 in /usr/local/lib/python3.10/dist-packages (from tensorboard>=2.4.1->-r requirements.txt (line 18)) (3.7)\n",
            "Requirement already satisfied: protobuf!=4.24.0,>=3.19.6 in /usr/local/lib/python3.10/dist-packages (from tensorboard>=2.4.1->-r requirements.txt (line 18)) (4.25.5)\n",
            "Requirement already satisfied: setuptools>=41.0.0 in /usr/local/lib/python3.10/dist-packages (from tensorboard>=2.4.1->-r requirements.txt (line 18)) (75.1.0)\n",
            "Requirement already satisfied: six>1.9 in /usr/local/lib/python3.10/dist-packages (from tensorboard>=2.4.1->-r requirements.txt (line 18)) (1.17.0)\n",
            "Requirement already satisfied: tensorboard-data-server<0.8.0,>=0.7.0 in /usr/local/lib/python3.10/dist-packages (from tensorboard>=2.4.1->-r requirements.txt (line 18)) (0.7.2)\n",
            "Requirement already satisfied: werkzeug>=1.0.1 in /usr/local/lib/python3.10/dist-packages (from tensorboard>=2.4.1->-r requirements.txt (line 18)) (3.1.3)\n",
            "Requirement already satisfied: pytz>=2020.1 in /usr/local/lib/python3.10/dist-packages (from pandas>=1.1.4->-r requirements.txt (line 22)) (2024.2)\n",
            "Requirement already satisfied: tzdata>=2022.7 in /usr/local/lib/python3.10/dist-packages (from pandas>=1.1.4->-r requirements.txt (line 22)) (2024.2)\n",
            "Collecting jedi>=0.16 (from ipython->-r requirements.txt (line 26))\n",
            "  Downloading jedi-0.19.2-py2.py3-none-any.whl.metadata (22 kB)\n",
            "Requirement already satisfied: decorator in /usr/local/lib/python3.10/dist-packages (from ipython->-r requirements.txt (line 26)) (4.4.2)\n",
            "Requirement already satisfied: pickleshare in /usr/local/lib/python3.10/dist-packages (from ipython->-r requirements.txt (line 26)) (0.7.5)\n",
            "Requirement already satisfied: traitlets>=4.2 in /usr/local/lib/python3.10/dist-packages (from ipython->-r requirements.txt (line 26)) (5.7.1)\n",
            "Requirement already satisfied: prompt-toolkit!=3.0.0,!=3.0.1,<3.1.0,>=2.0.0 in /usr/local/lib/python3.10/dist-packages (from ipython->-r requirements.txt (line 26)) (3.0.48)\n",
            "Requirement already satisfied: pygments in /usr/local/lib/python3.10/dist-packages (from ipython->-r requirements.txt (line 26)) (2.18.0)\n",
            "Requirement already satisfied: backcall in /usr/local/lib/python3.10/dist-packages (from ipython->-r requirements.txt (line 26)) (0.2.0)\n",
            "Requirement already satisfied: matplotlib-inline in /usr/local/lib/python3.10/dist-packages (from ipython->-r requirements.txt (line 26)) (0.1.7)\n",
            "Requirement already satisfied: pexpect>4.3 in /usr/local/lib/python3.10/dist-packages (from ipython->-r requirements.txt (line 26)) (4.9.0)\n",
            "Requirement already satisfied: gitdb<5,>=4.0.1 in /usr/local/lib/python3.10/dist-packages (from GitPython>=3.1.24->-r requirements.txt (line 31)) (4.0.11)\n",
            "Requirement already satisfied: smmap<6,>=3.0.1 in /usr/local/lib/python3.10/dist-packages (from gitdb<5,>=4.0.1->GitPython>=3.1.24->-r requirements.txt (line 31)) (5.0.1)\n",
            "Requirement already satisfied: parso<0.9.0,>=0.8.4 in /usr/local/lib/python3.10/dist-packages (from jedi>=0.16->ipython->-r requirements.txt (line 26)) (0.8.4)\n",
            "Requirement already satisfied: ptyprocess>=0.5 in /usr/local/lib/python3.10/dist-packages (from pexpect>4.3->ipython->-r requirements.txt (line 26)) (0.7.0)\n",
            "Requirement already satisfied: wcwidth in /usr/local/lib/python3.10/dist-packages (from prompt-toolkit!=3.0.0,!=3.0.1,<3.1.0,>=2.0.0->ipython->-r requirements.txt (line 26)) (0.2.13)\n",
            "Requirement already satisfied: MarkupSafe>=2.1.1 in /usr/local/lib/python3.10/dist-packages (from werkzeug>=1.0.1->tensorboard>=2.4.1->-r requirements.txt (line 18)) (3.0.2)\n",
            "Downloading ultralytics-8.0.3-py3-none-any.whl (247 kB)\n",
            "\u001b[2K   \u001b[90m━━━━━━━━━━━━━━━━━━━━━━━━━━━━━━━━━━━━━━━━\u001b[0m \u001b[32m247.5/247.5 kB\u001b[0m \u001b[31m14.4 MB/s\u001b[0m eta \u001b[36m0:00:00\u001b[0m\n",
            "\u001b[?25hDownloading hydra_core-1.3.2-py3-none-any.whl (154 kB)\n",
            "\u001b[2K   \u001b[90m━━━━━━━━━━━━━━━━━━━━━━━━━━━━━━━━━━━━━━━━\u001b[0m \u001b[32m154.5/154.5 kB\u001b[0m \u001b[31m17.4 MB/s\u001b[0m eta \u001b[36m0:00:00\u001b[0m\n",
            "\u001b[?25hDownloading thop-0.1.1.post2209072238-py3-none-any.whl (15 kB)\n",
            "Downloading jedi-0.19.2-py2.py3-none-any.whl (1.6 MB)\n",
            "\u001b[2K   \u001b[90m━━━━━━━━━━━━━━━━━━━━━━━━━━━━━━━━━━━━━━━━\u001b[0m \u001b[32m1.6/1.6 MB\u001b[0m \u001b[31m51.3 MB/s\u001b[0m eta \u001b[36m0:00:00\u001b[0m\n",
            "\u001b[?25hDownloading omegaconf-2.3.0-py3-none-any.whl (79 kB)\n",
            "\u001b[2K   \u001b[90m━━━━━━━━━━━━━━━━━━━━━━━━━━━━━━━━━━━━━━━━\u001b[0m \u001b[32m79.5/79.5 kB\u001b[0m \u001b[31m8.2 MB/s\u001b[0m eta \u001b[36m0:00:00\u001b[0m\n",
            "\u001b[?25hBuilding wheels for collected packages: antlr4-python3-runtime\n",
            "  Building wheel for antlr4-python3-runtime (setup.py) ... \u001b[?25l\u001b[?25hdone\n",
            "  Created wheel for antlr4-python3-runtime: filename=antlr4_python3_runtime-4.9.3-py3-none-any.whl size=144555 sha256=9349b6d35fde629305da02d98372cdf1317ee03c95d3f1dd47616753c8761b99\n",
            "  Stored in directory: /root/.cache/pip/wheels/12/93/dd/1f6a127edc45659556564c5730f6d4e300888f4bca2d4c5a88\n",
            "Successfully built antlr4-python3-runtime\n",
            "Installing collected packages: antlr4-python3-runtime, omegaconf, jedi, hydra-core, thop, ultralytics\n",
            "Successfully installed antlr4-python3-runtime-4.9.3 hydra-core-1.3.2 jedi-0.19.2 omegaconf-2.3.0 thop-0.1.1.post2209072238 ultralytics-8.0.3\n"
          ]
        },
        {
          "output_type": "display_data",
          "data": {
            "application/vnd.colab-display-data+json": {
              "pip_warning": {
                "packages": [
                  "pydevd_plugins"
                ]
              },
              "id": "d06805fbe474404a8ed4d530cb67b9af"
            }
          },
          "metadata": {}
        }
      ]
    },
    {
      "cell_type": "code",
      "source": [
        "!pip install roboflow\n",
        "\n",
        "from roboflow import Roboflow\n",
        "rf = Roboflow(api_key=\"6xXpmbz0tfJ5ZJfzKTJh\")\n",
        "project = rf.workspace(\"imam-maulana-b4xet\").project(\"handgun-detection-jtvaj\")\n",
        "version = project.version(9)\n",
        "dataset = version.download(\"yolov8\")\n"
      ],
      "metadata": {
        "colab": {
          "base_uri": "https://localhost:8080/"
        },
        "id": "i7nQY2yu4Ee3",
        "outputId": "df5bb6b9-6817-42f5-d600-ddc0c604240f"
      },
      "execution_count": 4,
      "outputs": [
        {
          "output_type": "stream",
          "name": "stdout",
          "text": [
            "Collecting roboflow\n",
            "  Downloading roboflow-1.1.50-py3-none-any.whl.metadata (9.7 kB)\n",
            "Requirement already satisfied: certifi in /usr/local/lib/python3.10/dist-packages (from roboflow) (2024.12.14)\n",
            "Collecting idna==3.7 (from roboflow)\n",
            "  Downloading idna-3.7-py3-none-any.whl.metadata (9.9 kB)\n",
            "Requirement already satisfied: cycler in /usr/local/lib/python3.10/dist-packages (from roboflow) (0.12.1)\n",
            "Requirement already satisfied: kiwisolver>=1.3.1 in /usr/local/lib/python3.10/dist-packages (from roboflow) (1.4.7)\n",
            "Requirement already satisfied: matplotlib in /usr/local/lib/python3.10/dist-packages (from roboflow) (3.8.0)\n",
            "Requirement already satisfied: numpy>=1.18.5 in /usr/local/lib/python3.10/dist-packages (from roboflow) (1.26.4)\n",
            "Requirement already satisfied: opencv-python-headless==4.10.0.84 in /usr/local/lib/python3.10/dist-packages (from roboflow) (4.10.0.84)\n",
            "Requirement already satisfied: Pillow>=7.1.2 in /usr/local/lib/python3.10/dist-packages (from roboflow) (11.0.0)\n",
            "Requirement already satisfied: python-dateutil in /usr/local/lib/python3.10/dist-packages (from roboflow) (2.8.2)\n",
            "Collecting python-dotenv (from roboflow)\n",
            "  Downloading python_dotenv-1.0.1-py3-none-any.whl.metadata (23 kB)\n",
            "Requirement already satisfied: requests in /usr/local/lib/python3.10/dist-packages (from roboflow) (2.32.3)\n",
            "Requirement already satisfied: six in /usr/local/lib/python3.10/dist-packages (from roboflow) (1.17.0)\n",
            "Requirement already satisfied: urllib3>=1.26.6 in /usr/local/lib/python3.10/dist-packages (from roboflow) (2.2.3)\n",
            "Requirement already satisfied: tqdm>=4.41.0 in /usr/local/lib/python3.10/dist-packages (from roboflow) (4.67.1)\n",
            "Requirement already satisfied: PyYAML>=5.3.1 in /usr/local/lib/python3.10/dist-packages (from roboflow) (6.0.2)\n",
            "Requirement already satisfied: requests-toolbelt in /usr/local/lib/python3.10/dist-packages (from roboflow) (1.0.0)\n",
            "Collecting filetype (from roboflow)\n",
            "  Downloading filetype-1.2.0-py2.py3-none-any.whl.metadata (6.5 kB)\n",
            "Requirement already satisfied: contourpy>=1.0.1 in /usr/local/lib/python3.10/dist-packages (from matplotlib->roboflow) (1.3.1)\n",
            "Requirement already satisfied: fonttools>=4.22.0 in /usr/local/lib/python3.10/dist-packages (from matplotlib->roboflow) (4.55.3)\n",
            "Requirement already satisfied: packaging>=20.0 in /usr/local/lib/python3.10/dist-packages (from matplotlib->roboflow) (24.2)\n",
            "Requirement already satisfied: pyparsing>=2.3.1 in /usr/local/lib/python3.10/dist-packages (from matplotlib->roboflow) (3.2.0)\n",
            "Requirement already satisfied: charset-normalizer<4,>=2 in /usr/local/lib/python3.10/dist-packages (from requests->roboflow) (3.4.0)\n",
            "Downloading roboflow-1.1.50-py3-none-any.whl (81 kB)\n",
            "\u001b[2K   \u001b[90m━━━━━━━━━━━━━━━━━━━━━━━━━━━━━━━━━━━━━━━━\u001b[0m \u001b[32m81.5/81.5 kB\u001b[0m \u001b[31m5.5 MB/s\u001b[0m eta \u001b[36m0:00:00\u001b[0m\n",
            "\u001b[?25hDownloading idna-3.7-py3-none-any.whl (66 kB)\n",
            "\u001b[2K   \u001b[90m━━━━━━━━━━━━━━━━━━━━━━━━━━━━━━━━━━━━━━━━\u001b[0m \u001b[32m66.8/66.8 kB\u001b[0m \u001b[31m7.9 MB/s\u001b[0m eta \u001b[36m0:00:00\u001b[0m\n",
            "\u001b[?25hDownloading filetype-1.2.0-py2.py3-none-any.whl (19 kB)\n",
            "Downloading python_dotenv-1.0.1-py3-none-any.whl (19 kB)\n",
            "Installing collected packages: filetype, python-dotenv, idna, roboflow\n",
            "  Attempting uninstall: idna\n",
            "    Found existing installation: idna 3.10\n",
            "    Uninstalling idna-3.10:\n",
            "      Successfully uninstalled idna-3.10\n",
            "Successfully installed filetype-1.2.0 idna-3.7 python-dotenv-1.0.1 roboflow-1.1.50\n",
            "loading Roboflow workspace...\n",
            "loading Roboflow project...\n"
          ]
        },
        {
          "output_type": "stream",
          "name": "stderr",
          "text": [
            "Downloading Dataset Version Zip in Handgun-Detection-9 to yolov8:: 100%|██████████| 205435/205435 [00:04<00:00, 48386.59it/s]"
          ]
        },
        {
          "output_type": "stream",
          "name": "stdout",
          "text": [
            "\n"
          ]
        },
        {
          "output_type": "stream",
          "name": "stderr",
          "text": [
            "\n",
            "Extracting Dataset Version Zip to Handgun-Detection-9 in yolov8:: 100%|██████████| 10500/10500 [00:04<00:00, 2596.14it/s]\n"
          ]
        }
      ]
    },
    {
      "cell_type": "code",
      "source": [
        "# Install the necessary package\n",
        "!pip install -U ultralytics\n",
        "\n",
        "# Define your data.yaml file (if not already done)\n",
        "data_yaml = \"\"\"\n",
        "names:\n",
        "  - handgun\n",
        "nc: 1\n",
        "train: /content/weapon-detection-with-roboflow/Handgun-Detection-9/train/images\n",
        "val: /content/weapon-detection-with-roboflow/Handgun-Detection-9/valid/images\n",
        "\"\"\"\n",
        "\n",
        "# Save the data.yaml file\n",
        "with open('/content/weapon-detection-with-roboflow/Handgun-Detection-9/data.yaml', 'w') as f:\n",
        "    f.write(data_yaml)\n",
        "\n",
        "\n"
      ],
      "metadata": {
        "colab": {
          "base_uri": "https://localhost:8080/",
          "height": 1000
        },
        "id": "--d49gxa575F",
        "outputId": "4b7bace1-52ea-46a4-ee6f-6b2afca9f626"
      },
      "execution_count": 7,
      "outputs": [
        {
          "output_type": "stream",
          "name": "stdout",
          "text": [
            "Requirement already satisfied: ultralytics in /usr/local/lib/python3.10/dist-packages (8.0.3)\n",
            "Collecting ultralytics\n",
            "  Downloading ultralytics-8.3.58-py3-none-any.whl.metadata (35 kB)\n",
            "Requirement already satisfied: numpy>=1.23.0 in /usr/local/lib/python3.10/dist-packages (from ultralytics) (1.26.4)\n",
            "Requirement already satisfied: matplotlib>=3.3.0 in /usr/local/lib/python3.10/dist-packages (from ultralytics) (3.8.0)\n",
            "Requirement already satisfied: opencv-python>=4.6.0 in /usr/local/lib/python3.10/dist-packages (from ultralytics) (4.10.0.84)\n",
            "Requirement already satisfied: pillow>=7.1.2 in /usr/local/lib/python3.10/dist-packages (from ultralytics) (11.0.0)\n",
            "Requirement already satisfied: pyyaml>=5.3.1 in /usr/local/lib/python3.10/dist-packages (from ultralytics) (6.0.2)\n",
            "Requirement already satisfied: requests>=2.23.0 in /usr/local/lib/python3.10/dist-packages (from ultralytics) (2.32.3)\n",
            "Requirement already satisfied: scipy>=1.4.1 in /usr/local/lib/python3.10/dist-packages (from ultralytics) (1.13.1)\n",
            "Requirement already satisfied: torch>=1.8.0 in /usr/local/lib/python3.10/dist-packages (from ultralytics) (2.5.1+cu121)\n",
            "Requirement already satisfied: torchvision>=0.9.0 in /usr/local/lib/python3.10/dist-packages (from ultralytics) (0.20.1+cu121)\n",
            "Requirement already satisfied: tqdm>=4.64.0 in /usr/local/lib/python3.10/dist-packages (from ultralytics) (4.67.1)\n",
            "Requirement already satisfied: psutil in /usr/local/lib/python3.10/dist-packages (from ultralytics) (5.9.5)\n",
            "Requirement already satisfied: py-cpuinfo in /usr/local/lib/python3.10/dist-packages (from ultralytics) (9.0.0)\n",
            "Requirement already satisfied: pandas>=1.1.4 in /usr/local/lib/python3.10/dist-packages (from ultralytics) (2.2.2)\n",
            "Requirement already satisfied: seaborn>=0.11.0 in /usr/local/lib/python3.10/dist-packages (from ultralytics) (0.13.2)\n",
            "Collecting ultralytics-thop>=2.0.0 (from ultralytics)\n",
            "  Downloading ultralytics_thop-2.0.13-py3-none-any.whl.metadata (9.4 kB)\n",
            "Requirement already satisfied: contourpy>=1.0.1 in /usr/local/lib/python3.10/dist-packages (from matplotlib>=3.3.0->ultralytics) (1.3.1)\n",
            "Requirement already satisfied: cycler>=0.10 in /usr/local/lib/python3.10/dist-packages (from matplotlib>=3.3.0->ultralytics) (0.12.1)\n",
            "Requirement already satisfied: fonttools>=4.22.0 in /usr/local/lib/python3.10/dist-packages (from matplotlib>=3.3.0->ultralytics) (4.55.3)\n",
            "Requirement already satisfied: kiwisolver>=1.0.1 in /usr/local/lib/python3.10/dist-packages (from matplotlib>=3.3.0->ultralytics) (1.4.7)\n",
            "Requirement already satisfied: packaging>=20.0 in /usr/local/lib/python3.10/dist-packages (from matplotlib>=3.3.0->ultralytics) (24.2)\n",
            "Requirement already satisfied: pyparsing>=2.3.1 in /usr/local/lib/python3.10/dist-packages (from matplotlib>=3.3.0->ultralytics) (3.2.0)\n",
            "Requirement already satisfied: python-dateutil>=2.7 in /usr/local/lib/python3.10/dist-packages (from matplotlib>=3.3.0->ultralytics) (2.8.2)\n",
            "Requirement already satisfied: pytz>=2020.1 in /usr/local/lib/python3.10/dist-packages (from pandas>=1.1.4->ultralytics) (2024.2)\n",
            "Requirement already satisfied: tzdata>=2022.7 in /usr/local/lib/python3.10/dist-packages (from pandas>=1.1.4->ultralytics) (2024.2)\n",
            "Requirement already satisfied: charset-normalizer<4,>=2 in /usr/local/lib/python3.10/dist-packages (from requests>=2.23.0->ultralytics) (3.4.0)\n",
            "Requirement already satisfied: idna<4,>=2.5 in /usr/local/lib/python3.10/dist-packages (from requests>=2.23.0->ultralytics) (3.7)\n",
            "Requirement already satisfied: urllib3<3,>=1.21.1 in /usr/local/lib/python3.10/dist-packages (from requests>=2.23.0->ultralytics) (2.2.3)\n",
            "Requirement already satisfied: certifi>=2017.4.17 in /usr/local/lib/python3.10/dist-packages (from requests>=2.23.0->ultralytics) (2024.12.14)\n",
            "Requirement already satisfied: filelock in /usr/local/lib/python3.10/dist-packages (from torch>=1.8.0->ultralytics) (3.16.1)\n",
            "Requirement already satisfied: typing-extensions>=4.8.0 in /usr/local/lib/python3.10/dist-packages (from torch>=1.8.0->ultralytics) (4.12.2)\n",
            "Requirement already satisfied: networkx in /usr/local/lib/python3.10/dist-packages (from torch>=1.8.0->ultralytics) (3.4.2)\n",
            "Requirement already satisfied: jinja2 in /usr/local/lib/python3.10/dist-packages (from torch>=1.8.0->ultralytics) (3.1.4)\n",
            "Requirement already satisfied: fsspec in /usr/local/lib/python3.10/dist-packages (from torch>=1.8.0->ultralytics) (2024.10.0)\n",
            "Requirement already satisfied: sympy==1.13.1 in /usr/local/lib/python3.10/dist-packages (from torch>=1.8.0->ultralytics) (1.13.1)\n",
            "Requirement already satisfied: mpmath<1.4,>=1.1.0 in /usr/local/lib/python3.10/dist-packages (from sympy==1.13.1->torch>=1.8.0->ultralytics) (1.3.0)\n",
            "Requirement already satisfied: six>=1.5 in /usr/local/lib/python3.10/dist-packages (from python-dateutil>=2.7->matplotlib>=3.3.0->ultralytics) (1.17.0)\n",
            "Requirement already satisfied: MarkupSafe>=2.0 in /usr/local/lib/python3.10/dist-packages (from jinja2->torch>=1.8.0->ultralytics) (3.0.2)\n",
            "Downloading ultralytics-8.3.58-py3-none-any.whl (905 kB)\n",
            "\u001b[2K   \u001b[90m━━━━━━━━━━━━━━━━━━━━━━━━━━━━━━━━━━━━━━━━\u001b[0m \u001b[32m905.3/905.3 kB\u001b[0m \u001b[31m27.1 MB/s\u001b[0m eta \u001b[36m0:00:00\u001b[0m\n",
            "\u001b[?25hDownloading ultralytics_thop-2.0.13-py3-none-any.whl (26 kB)\n",
            "Installing collected packages: ultralytics-thop, ultralytics\n",
            "  Attempting uninstall: ultralytics\n",
            "    Found existing installation: ultralytics 8.0.3\n",
            "    Uninstalling ultralytics-8.0.3:\n",
            "      Successfully uninstalled ultralytics-8.0.3\n",
            "Successfully installed ultralytics-8.3.58 ultralytics-thop-2.0.13\n"
          ]
        },
        {
          "output_type": "display_data",
          "data": {
            "application/vnd.colab-display-data+json": {
              "pip_warning": {
                "packages": [
                  "thop",
                  "ultralytics"
                ]
              },
              "id": "ffbe2cacdc6c43c6bfc2cec8c0e425aa"
            }
          },
          "metadata": {}
        }
      ]
    },
    {
      "cell_type": "code",
      "source": [
        "!yolo train model=yolov8n.pt data=/content/weapon-detection-with-roboflow/Handgun-Detection-9/data.yaml epochs=50\n"
      ],
      "metadata": {
        "colab": {
          "base_uri": "https://localhost:8080/"
        },
        "id": "YRlMYjwf5a_I",
        "outputId": "b16c2d7e-0d3e-484f-ede7-c914d24b09e7"
      },
      "execution_count": null,
      "outputs": [
        {
          "output_type": "stream",
          "name": "stdout",
          "text": [
            "Creating new Ultralytics Settings v0.0.6 file ✅ \n",
            "View Ultralytics Settings with 'yolo settings' or at '/root/.config/Ultralytics/settings.json'\n",
            "Update Settings with 'yolo settings key=value', i.e. 'yolo settings runs_dir=path/to/dir'. For help see https://docs.ultralytics.com/quickstart/#ultralytics-settings.\n",
            "Downloading https://github.com/ultralytics/assets/releases/download/v8.3.0/yolov8n.pt to 'yolov8n.pt'...\n",
            "100% 6.25M/6.25M [00:00<00:00, 125MB/s]\n",
            "Ultralytics 8.3.58 🚀 Python-3.10.12 torch-2.5.1+cu121 CUDA:0 (Tesla T4, 15102MiB)\n",
            "\u001b[34m\u001b[1mengine/trainer: \u001b[0mtask=detect, mode=train, model=yolov8n.pt, data=/content/weapon-detection-with-roboflow/Handgun-Detection-9/data.yaml, epochs=50, time=None, patience=100, batch=16, imgsz=640, save=True, save_period=-1, cache=False, device=None, workers=8, project=None, name=train, exist_ok=False, pretrained=True, optimizer=auto, verbose=True, seed=0, deterministic=True, single_cls=False, rect=False, cos_lr=False, close_mosaic=10, resume=False, amp=True, fraction=1.0, profile=False, freeze=None, multi_scale=False, overlap_mask=True, mask_ratio=4, dropout=0.0, val=True, split=val, save_json=False, save_hybrid=False, conf=None, iou=0.7, max_det=300, half=False, dnn=False, plots=True, source=None, vid_stride=1, stream_buffer=False, visualize=False, augment=False, agnostic_nms=False, classes=None, retina_masks=False, embed=None, show=False, save_frames=False, save_txt=False, save_conf=False, save_crop=False, show_labels=True, show_conf=True, show_boxes=True, line_width=None, format=torchscript, keras=False, optimize=False, int8=False, dynamic=False, simplify=True, opset=None, workspace=None, nms=False, lr0=0.01, lrf=0.01, momentum=0.937, weight_decay=0.0005, warmup_epochs=3.0, warmup_momentum=0.8, warmup_bias_lr=0.1, box=7.5, cls=0.5, dfl=1.5, pose=12.0, kobj=1.0, nbs=64, hsv_h=0.015, hsv_s=0.7, hsv_v=0.4, degrees=0.0, translate=0.1, scale=0.5, shear=0.0, perspective=0.0, flipud=0.0, fliplr=0.5, bgr=0.0, mosaic=1.0, mixup=0.0, copy_paste=0.0, copy_paste_mode=flip, auto_augment=randaugment, erasing=0.4, crop_fraction=1.0, cfg=None, tracker=botsort.yaml, save_dir=runs/detect/train\n",
            "Downloading https://ultralytics.com/assets/Arial.ttf to '/root/.config/Ultralytics/Arial.ttf'...\n",
            "100% 755k/755k [00:00<00:00, 23.6MB/s]\n",
            "Overriding model.yaml nc=80 with nc=1\n",
            "\n",
            "                   from  n    params  module                                       arguments                     \n",
            "  0                  -1  1       464  ultralytics.nn.modules.conv.Conv             [3, 16, 3, 2]                 \n",
            "  1                  -1  1      4672  ultralytics.nn.modules.conv.Conv             [16, 32, 3, 2]                \n",
            "  2                  -1  1      7360  ultralytics.nn.modules.block.C2f             [32, 32, 1, True]             \n",
            "  3                  -1  1     18560  ultralytics.nn.modules.conv.Conv             [32, 64, 3, 2]                \n",
            "  4                  -1  2     49664  ultralytics.nn.modules.block.C2f             [64, 64, 2, True]             \n",
            "  5                  -1  1     73984  ultralytics.nn.modules.conv.Conv             [64, 128, 3, 2]               \n",
            "  6                  -1  2    197632  ultralytics.nn.modules.block.C2f             [128, 128, 2, True]           \n",
            "  7                  -1  1    295424  ultralytics.nn.modules.conv.Conv             [128, 256, 3, 2]              \n",
            "  8                  -1  1    460288  ultralytics.nn.modules.block.C2f             [256, 256, 1, True]           \n",
            "  9                  -1  1    164608  ultralytics.nn.modules.block.SPPF            [256, 256, 5]                 \n",
            " 10                  -1  1         0  torch.nn.modules.upsampling.Upsample         [None, 2, 'nearest']          \n",
            " 11             [-1, 6]  1         0  ultralytics.nn.modules.conv.Concat           [1]                           \n",
            " 12                  -1  1    148224  ultralytics.nn.modules.block.C2f             [384, 128, 1]                 \n",
            " 13                  -1  1         0  torch.nn.modules.upsampling.Upsample         [None, 2, 'nearest']          \n",
            " 14             [-1, 4]  1         0  ultralytics.nn.modules.conv.Concat           [1]                           \n",
            " 15                  -1  1     37248  ultralytics.nn.modules.block.C2f             [192, 64, 1]                  \n",
            " 16                  -1  1     36992  ultralytics.nn.modules.conv.Conv             [64, 64, 3, 2]                \n",
            " 17            [-1, 12]  1         0  ultralytics.nn.modules.conv.Concat           [1]                           \n",
            " 18                  -1  1    123648  ultralytics.nn.modules.block.C2f             [192, 128, 1]                 \n",
            " 19                  -1  1    147712  ultralytics.nn.modules.conv.Conv             [128, 128, 3, 2]              \n",
            " 20             [-1, 9]  1         0  ultralytics.nn.modules.conv.Concat           [1]                           \n",
            " 21                  -1  1    493056  ultralytics.nn.modules.block.C2f             [384, 256, 1]                 \n",
            " 22        [15, 18, 21]  1    751507  ultralytics.nn.modules.head.Detect           [1, [64, 128, 256]]           \n",
            "Model summary: 225 layers, 3,011,043 parameters, 3,011,027 gradients, 8.2 GFLOPs\n",
            "\n",
            "Transferred 319/355 items from pretrained weights\n",
            "\u001b[34m\u001b[1mTensorBoard: \u001b[0mStart with 'tensorboard --logdir runs/detect/train', view at http://localhost:6006/\n",
            "Freezing layer 'model.22.dfl.conv.weight'\n",
            "\u001b[34m\u001b[1mAMP: \u001b[0mrunning Automatic Mixed Precision (AMP) checks...\n",
            "Downloading https://github.com/ultralytics/assets/releases/download/v8.3.0/yolo11n.pt to 'yolo11n.pt'...\n",
            "100% 5.35M/5.35M [00:00<00:00, 92.5MB/s]\n",
            "\u001b[34m\u001b[1mAMP: \u001b[0mchecks passed ✅\n",
            "\u001b[34m\u001b[1mtrain: \u001b[0mScanning /content/weapon-detection-with-roboflow/Handgun-Detection-9/train/labels... 4845 images, 0 backgrounds, 0 corrupt: 100% 4845/4845 [00:02<00:00, 1998.82it/s]\n",
            "\u001b[34m\u001b[1mtrain: \u001b[0mNew cache created: /content/weapon-detection-with-roboflow/Handgun-Detection-9/train/labels.cache\n",
            "WARNING ⚠️ Box and segment counts should be equal, but got len(segments) = 3, len(boxes) = 5193. To resolve this only boxes will be used and all segments will be removed. To avoid this please supply either a detect or segment dataset, not a detect-segment mixed dataset.\n",
            "/usr/local/lib/python3.10/dist-packages/albumentations/__init__.py:24: UserWarning: A new version of Albumentations is available: 1.4.24 (you have 1.4.20). Upgrade using: pip install -U albumentations. To disable automatic update checks, set the environment variable NO_ALBUMENTATIONS_UPDATE to 1.\n",
            "  check_for_updates()\n",
            "\u001b[34m\u001b[1malbumentations: \u001b[0mBlur(p=0.01, blur_limit=(3, 7)), MedianBlur(p=0.01, blur_limit=(3, 7)), ToGray(p=0.01, num_output_channels=3, method='weighted_average'), CLAHE(p=0.01, clip_limit=(1.0, 4.0), tile_grid_size=(8, 8))\n",
            "\u001b[34m\u001b[1mval: \u001b[0mScanning /content/weapon-detection-with-roboflow/Handgun-Detection-9/valid/labels... 300 images, 0 backgrounds, 0 corrupt: 100% 300/300 [00:00<00:00, 1547.46it/s]\n",
            "\u001b[34m\u001b[1mval: \u001b[0mNew cache created: /content/weapon-detection-with-roboflow/Handgun-Detection-9/valid/labels.cache\n",
            "WARNING ⚠️ Box and segment counts should be equal, but got len(segments) = 2, len(boxes) = 363. To resolve this only boxes will be used and all segments will be removed. To avoid this please supply either a detect or segment dataset, not a detect-segment mixed dataset.\n",
            "Plotting labels to runs/detect/train/labels.jpg... \n",
            "\u001b[34m\u001b[1moptimizer:\u001b[0m 'optimizer=auto' found, ignoring 'lr0=0.01' and 'momentum=0.937' and determining best 'optimizer', 'lr0' and 'momentum' automatically... \n",
            "\u001b[34m\u001b[1moptimizer:\u001b[0m AdamW(lr=0.002, momentum=0.9) with parameter groups 57 weight(decay=0.0), 64 weight(decay=0.0005), 63 bias(decay=0.0)\n",
            "\u001b[34m\u001b[1mTensorBoard: \u001b[0mmodel graph visualization added ✅\n",
            "Image sizes 640 train, 640 val\n",
            "Using 2 dataloader workers\n",
            "Logging results to \u001b[1mruns/detect/train\u001b[0m\n",
            "Starting training for 50 epochs...\n",
            "\n",
            "      Epoch    GPU_mem   box_loss   cls_loss   dfl_loss  Instances       Size\n",
            "       1/50      2.26G      1.241      2.626      1.608         41        640:  12% 35/303 [00:13<02:41,  1.66it/s]"
          ]
        }
      ]
    },
    {
      "cell_type": "code",
      "source": [
        "!yolo predict model=/content/weapon-detection-with-roboflow/runs/detect/train2/weights/best.pt source='/content/weapon-detection-with-roboflow/weapon3.png'"
      ],
      "metadata": {
        "colab": {
          "base_uri": "https://localhost:8080/"
        },
        "id": "bgRwJm1MAWVN",
        "outputId": "e84b3ccc-df47-43c3-d5be-3cc06a127dac"
      },
      "execution_count": null,
      "outputs": [
        {
          "output_type": "stream",
          "name": "stdout",
          "text": [
            "Ultralytics 8.3.58 🚀 Python-3.10.12 torch-2.5.1+cu121 CUDA:0 (Tesla T4, 15102MiB)\n",
            "Model summary (fused): 168 layers, 3,005,843 parameters, 0 gradients, 8.1 GFLOPs\n",
            "\n",
            "image 1/1 /content/weapon-detection-with-roboflow/weapon3.png: 640x640 1 handgun, 9.6ms\n",
            "Speed: 4.6ms preprocess, 9.6ms inference, 588.9ms postprocess per image at shape (1, 3, 640, 640)\n",
            "Results saved to \u001b[1mruns/detect/predict\u001b[0m\n",
            "💡 Learn more at https://docs.ultralytics.com/modes/predict\n"
          ]
        }
      ]
    },
    {
      "cell_type": "code",
      "source": [
        "!yolo predict model=/content/weapon-detection-with-roboflow/runs/detect/train2/weights/best.pt source='/content/weapon-detection-with-roboflow/2gun.mp4' conf=0.30"
      ],
      "metadata": {
        "colab": {
          "base_uri": "https://localhost:8080/"
        },
        "id": "eh9d2hdFMO0l",
        "outputId": "cda0b333-22b5-480b-8c9c-aeee75d65ce1"
      },
      "execution_count": null,
      "outputs": [
        {
          "output_type": "stream",
          "name": "stdout",
          "text": [
            "Ultralytics 8.3.58 🚀 Python-3.10.12 torch-2.5.1+cu121 CUDA:0 (Tesla T4, 15102MiB)\n",
            "Model summary (fused): 168 layers, 3,005,843 parameters, 0 gradients, 8.1 GFLOPs\n",
            "\n",
            "video 1/1 (frame 1/214) /content/weapon-detection-with-roboflow/2gun.mp4: 352x640 (no detections), 36.3ms\n",
            "video 1/1 (frame 2/214) /content/weapon-detection-with-roboflow/2gun.mp4: 352x640 (no detections), 6.5ms\n",
            "video 1/1 (frame 3/214) /content/weapon-detection-with-roboflow/2gun.mp4: 352x640 (no detections), 8.7ms\n",
            "video 1/1 (frame 4/214) /content/weapon-detection-with-roboflow/2gun.mp4: 352x640 (no detections), 6.9ms\n",
            "video 1/1 (frame 5/214) /content/weapon-detection-with-roboflow/2gun.mp4: 352x640 (no detections), 7.4ms\n",
            "video 1/1 (frame 6/214) /content/weapon-detection-with-roboflow/2gun.mp4: 352x640 (no detections), 8.1ms\n",
            "video 1/1 (frame 7/214) /content/weapon-detection-with-roboflow/2gun.mp4: 352x640 (no detections), 7.4ms\n",
            "video 1/1 (frame 8/214) /content/weapon-detection-with-roboflow/2gun.mp4: 352x640 (no detections), 6.6ms\n",
            "video 1/1 (frame 9/214) /content/weapon-detection-with-roboflow/2gun.mp4: 352x640 (no detections), 6.6ms\n",
            "video 1/1 (frame 10/214) /content/weapon-detection-with-roboflow/2gun.mp4: 352x640 (no detections), 8.2ms\n",
            "video 1/1 (frame 11/214) /content/weapon-detection-with-roboflow/2gun.mp4: 352x640 1 handgun, 7.9ms\n",
            "video 1/1 (frame 12/214) /content/weapon-detection-with-roboflow/2gun.mp4: 352x640 1 handgun, 7.6ms\n",
            "video 1/1 (frame 13/214) /content/weapon-detection-with-roboflow/2gun.mp4: 352x640 1 handgun, 6.5ms\n",
            "video 1/1 (frame 14/214) /content/weapon-detection-with-roboflow/2gun.mp4: 352x640 1 handgun, 6.6ms\n",
            "video 1/1 (frame 15/214) /content/weapon-detection-with-roboflow/2gun.mp4: 352x640 (no detections), 7.5ms\n",
            "video 1/1 (frame 16/214) /content/weapon-detection-with-roboflow/2gun.mp4: 352x640 (no detections), 6.7ms\n",
            "video 1/1 (frame 17/214) /content/weapon-detection-with-roboflow/2gun.mp4: 352x640 (no detections), 6.7ms\n",
            "video 1/1 (frame 18/214) /content/weapon-detection-with-roboflow/2gun.mp4: 352x640 (no detections), 8.0ms\n",
            "video 1/1 (frame 19/214) /content/weapon-detection-with-roboflow/2gun.mp4: 352x640 (no detections), 8.1ms\n",
            "video 1/1 (frame 20/214) /content/weapon-detection-with-roboflow/2gun.mp4: 352x640 (no detections), 6.8ms\n",
            "video 1/1 (frame 21/214) /content/weapon-detection-with-roboflow/2gun.mp4: 352x640 (no detections), 6.6ms\n",
            "video 1/1 (frame 22/214) /content/weapon-detection-with-roboflow/2gun.mp4: 352x640 (no detections), 7.8ms\n",
            "video 1/1 (frame 23/214) /content/weapon-detection-with-roboflow/2gun.mp4: 352x640 1 handgun, 7.7ms\n",
            "video 1/1 (frame 24/214) /content/weapon-detection-with-roboflow/2gun.mp4: 352x640 1 handgun, 10.0ms\n",
            "video 1/1 (frame 25/214) /content/weapon-detection-with-roboflow/2gun.mp4: 352x640 1 handgun, 6.7ms\n",
            "video 1/1 (frame 26/214) /content/weapon-detection-with-roboflow/2gun.mp4: 352x640 1 handgun, 8.2ms\n",
            "video 1/1 (frame 27/214) /content/weapon-detection-with-roboflow/2gun.mp4: 352x640 1 handgun, 7.8ms\n",
            "video 1/1 (frame 28/214) /content/weapon-detection-with-roboflow/2gun.mp4: 352x640 1 handgun, 7.6ms\n",
            "video 1/1 (frame 29/214) /content/weapon-detection-with-roboflow/2gun.mp4: 352x640 1 handgun, 6.7ms\n",
            "video 1/1 (frame 30/214) /content/weapon-detection-with-roboflow/2gun.mp4: 352x640 1 handgun, 7.8ms\n",
            "video 1/1 (frame 31/214) /content/weapon-detection-with-roboflow/2gun.mp4: 352x640 1 handgun, 7.8ms\n",
            "video 1/1 (frame 32/214) /content/weapon-detection-with-roboflow/2gun.mp4: 352x640 1 handgun, 7.0ms\n",
            "video 1/1 (frame 33/214) /content/weapon-detection-with-roboflow/2gun.mp4: 352x640 1 handgun, 8.5ms\n",
            "video 1/1 (frame 34/214) /content/weapon-detection-with-roboflow/2gun.mp4: 352x640 (no detections), 7.2ms\n",
            "video 1/1 (frame 35/214) /content/weapon-detection-with-roboflow/2gun.mp4: 352x640 1 handgun, 9.0ms\n",
            "video 1/1 (frame 36/214) /content/weapon-detection-with-roboflow/2gun.mp4: 352x640 1 handgun, 6.7ms\n",
            "video 1/1 (frame 37/214) /content/weapon-detection-with-roboflow/2gun.mp4: 352x640 1 handgun, 8.1ms\n",
            "video 1/1 (frame 38/214) /content/weapon-detection-with-roboflow/2gun.mp4: 352x640 1 handgun, 7.7ms\n",
            "video 1/1 (frame 39/214) /content/weapon-detection-with-roboflow/2gun.mp4: 352x640 1 handgun, 6.9ms\n",
            "video 1/1 (frame 40/214) /content/weapon-detection-with-roboflow/2gun.mp4: 352x640 1 handgun, 6.7ms\n",
            "video 1/1 (frame 41/214) /content/weapon-detection-with-roboflow/2gun.mp4: 352x640 1 handgun, 9.3ms\n",
            "video 1/1 (frame 42/214) /content/weapon-detection-with-roboflow/2gun.mp4: 352x640 1 handgun, 8.3ms\n",
            "video 1/1 (frame 43/214) /content/weapon-detection-with-roboflow/2gun.mp4: 352x640 1 handgun, 6.9ms\n",
            "video 1/1 (frame 44/214) /content/weapon-detection-with-roboflow/2gun.mp4: 352x640 2 handguns, 6.8ms\n",
            "video 1/1 (frame 45/214) /content/weapon-detection-with-roboflow/2gun.mp4: 352x640 1 handgun, 8.1ms\n",
            "video 1/1 (frame 46/214) /content/weapon-detection-with-roboflow/2gun.mp4: 352x640 1 handgun, 7.5ms\n",
            "video 1/1 (frame 47/214) /content/weapon-detection-with-roboflow/2gun.mp4: 352x640 1 handgun, 7.2ms\n",
            "video 1/1 (frame 48/214) /content/weapon-detection-with-roboflow/2gun.mp4: 352x640 1 handgun, 8.2ms\n",
            "video 1/1 (frame 49/214) /content/weapon-detection-with-roboflow/2gun.mp4: 352x640 1 handgun, 8.2ms\n",
            "video 1/1 (frame 50/214) /content/weapon-detection-with-roboflow/2gun.mp4: 352x640 1 handgun, 7.5ms\n",
            "video 1/1 (frame 51/214) /content/weapon-detection-with-roboflow/2gun.mp4: 352x640 1 handgun, 7.0ms\n",
            "video 1/1 (frame 52/214) /content/weapon-detection-with-roboflow/2gun.mp4: 352x640 2 handguns, 6.9ms\n",
            "video 1/1 (frame 53/214) /content/weapon-detection-with-roboflow/2gun.mp4: 352x640 2 handguns, 8.0ms\n",
            "video 1/1 (frame 54/214) /content/weapon-detection-with-roboflow/2gun.mp4: 352x640 2 handguns, 7.8ms\n",
            "video 1/1 (frame 55/214) /content/weapon-detection-with-roboflow/2gun.mp4: 352x640 1 handgun, 6.9ms\n",
            "video 1/1 (frame 56/214) /content/weapon-detection-with-roboflow/2gun.mp4: 352x640 1 handgun, 7.0ms\n",
            "video 1/1 (frame 57/214) /content/weapon-detection-with-roboflow/2gun.mp4: 352x640 (no detections), 8.3ms\n",
            "video 1/1 (frame 58/214) /content/weapon-detection-with-roboflow/2gun.mp4: 352x640 (no detections), 7.7ms\n",
            "video 1/1 (frame 59/214) /content/weapon-detection-with-roboflow/2gun.mp4: 352x640 1 handgun, 7.1ms\n",
            "video 1/1 (frame 60/214) /content/weapon-detection-with-roboflow/2gun.mp4: 352x640 1 handgun, 10.0ms\n",
            "video 1/1 (frame 61/214) /content/weapon-detection-with-roboflow/2gun.mp4: 352x640 (no detections), 7.2ms\n",
            "video 1/1 (frame 62/214) /content/weapon-detection-with-roboflow/2gun.mp4: 352x640 1 handgun, 7.1ms\n",
            "video 1/1 (frame 63/214) /content/weapon-detection-with-roboflow/2gun.mp4: 352x640 1 handgun, 8.3ms\n",
            "video 1/1 (frame 64/214) /content/weapon-detection-with-roboflow/2gun.mp4: 352x640 2 handguns, 7.6ms\n",
            "video 1/1 (frame 65/214) /content/weapon-detection-with-roboflow/2gun.mp4: 352x640 2 handguns, 7.2ms\n",
            "video 1/1 (frame 66/214) /content/weapon-detection-with-roboflow/2gun.mp4: 352x640 1 handgun, 8.1ms\n",
            "video 1/1 (frame 67/214) /content/weapon-detection-with-roboflow/2gun.mp4: 352x640 1 handgun, 7.6ms\n",
            "video 1/1 (frame 68/214) /content/weapon-detection-with-roboflow/2gun.mp4: 352x640 1 handgun, 9.2ms\n",
            "video 1/1 (frame 69/214) /content/weapon-detection-with-roboflow/2gun.mp4: 352x640 1 handgun, 8.5ms\n",
            "video 1/1 (frame 70/214) /content/weapon-detection-with-roboflow/2gun.mp4: 352x640 1 handgun, 7.1ms\n",
            "video 1/1 (frame 71/214) /content/weapon-detection-with-roboflow/2gun.mp4: 352x640 1 handgun, 7.2ms\n",
            "video 1/1 (frame 72/214) /content/weapon-detection-with-roboflow/2gun.mp4: 352x640 1 handgun, 8.1ms\n",
            "video 1/1 (frame 73/214) /content/weapon-detection-with-roboflow/2gun.mp4: 352x640 1 handgun, 7.3ms\n",
            "video 1/1 (frame 74/214) /content/weapon-detection-with-roboflow/2gun.mp4: 352x640 1 handgun, 7.9ms\n",
            "video 1/1 (frame 75/214) /content/weapon-detection-with-roboflow/2gun.mp4: 352x640 1 handgun, 7.6ms\n",
            "video 1/1 (frame 76/214) /content/weapon-detection-with-roboflow/2gun.mp4: 352x640 1 handgun, 7.5ms\n",
            "video 1/1 (frame 77/214) /content/weapon-detection-with-roboflow/2gun.mp4: 352x640 1 handgun, 7.3ms\n",
            "video 1/1 (frame 78/214) /content/weapon-detection-with-roboflow/2gun.mp4: 352x640 1 handgun, 8.0ms\n",
            "video 1/1 (frame 79/214) /content/weapon-detection-with-roboflow/2gun.mp4: 352x640 1 handgun, 10.0ms\n",
            "video 1/1 (frame 80/214) /content/weapon-detection-with-roboflow/2gun.mp4: 352x640 1 handgun, 7.1ms\n",
            "video 1/1 (frame 81/214) /content/weapon-detection-with-roboflow/2gun.mp4: 352x640 2 handguns, 8.2ms\n",
            "video 1/1 (frame 82/214) /content/weapon-detection-with-roboflow/2gun.mp4: 352x640 1 handgun, 8.3ms\n",
            "video 1/1 (frame 83/214) /content/weapon-detection-with-roboflow/2gun.mp4: 352x640 1 handgun, 7.2ms\n",
            "video 1/1 (frame 84/214) /content/weapon-detection-with-roboflow/2gun.mp4: 352x640 2 handguns, 8.0ms\n",
            "video 1/1 (frame 85/214) /content/weapon-detection-with-roboflow/2gun.mp4: 352x640 2 handguns, 7.6ms\n",
            "video 1/1 (frame 86/214) /content/weapon-detection-with-roboflow/2gun.mp4: 352x640 (no detections), 7.2ms\n",
            "video 1/1 (frame 87/214) /content/weapon-detection-with-roboflow/2gun.mp4: 352x640 (no detections), 8.1ms\n",
            "video 1/1 (frame 88/214) /content/weapon-detection-with-roboflow/2gun.mp4: 352x640 (no detections), 7.7ms\n",
            "video 1/1 (frame 89/214) /content/weapon-detection-with-roboflow/2gun.mp4: 352x640 (no detections), 8.6ms\n",
            "video 1/1 (frame 90/214) /content/weapon-detection-with-roboflow/2gun.mp4: 352x640 1 handgun, 6.9ms\n",
            "video 1/1 (frame 91/214) /content/weapon-detection-with-roboflow/2gun.mp4: 352x640 (no detections), 9.6ms\n",
            "video 1/1 (frame 92/214) /content/weapon-detection-with-roboflow/2gun.mp4: 352x640 (no detections), 8.8ms\n",
            "video 1/1 (frame 93/214) /content/weapon-detection-with-roboflow/2gun.mp4: 352x640 (no detections), 9.2ms\n",
            "video 1/1 (frame 94/214) /content/weapon-detection-with-roboflow/2gun.mp4: 352x640 1 handgun, 7.1ms\n",
            "video 1/1 (frame 95/214) /content/weapon-detection-with-roboflow/2gun.mp4: 352x640 1 handgun, 8.1ms\n",
            "video 1/1 (frame 96/214) /content/weapon-detection-with-roboflow/2gun.mp4: 352x640 (no detections), 8.0ms\n",
            "video 1/1 (frame 97/214) /content/weapon-detection-with-roboflow/2gun.mp4: 352x640 (no detections), 10.9ms\n",
            "video 1/1 (frame 98/214) /content/weapon-detection-with-roboflow/2gun.mp4: 352x640 (no detections), 8.2ms\n",
            "video 1/1 (frame 99/214) /content/weapon-detection-with-roboflow/2gun.mp4: 352x640 (no detections), 8.6ms\n",
            "video 1/1 (frame 100/214) /content/weapon-detection-with-roboflow/2gun.mp4: 352x640 (no detections), 7.7ms\n",
            "video 1/1 (frame 101/214) /content/weapon-detection-with-roboflow/2gun.mp4: 352x640 (no detections), 7.1ms\n",
            "video 1/1 (frame 102/214) /content/weapon-detection-with-roboflow/2gun.mp4: 352x640 (no detections), 7.0ms\n",
            "video 1/1 (frame 103/214) /content/weapon-detection-with-roboflow/2gun.mp4: 352x640 (no detections), 8.1ms\n",
            "video 1/1 (frame 104/214) /content/weapon-detection-with-roboflow/2gun.mp4: 352x640 1 handgun, 7.7ms\n",
            "video 1/1 (frame 105/214) /content/weapon-detection-with-roboflow/2gun.mp4: 352x640 1 handgun, 7.3ms\n",
            "video 1/1 (frame 106/214) /content/weapon-detection-with-roboflow/2gun.mp4: 352x640 1 handgun, 8.8ms\n",
            "video 1/1 (frame 107/214) /content/weapon-detection-with-roboflow/2gun.mp4: 352x640 (no detections), 8.0ms\n",
            "video 1/1 (frame 108/214) /content/weapon-detection-with-roboflow/2gun.mp4: 352x640 (no detections), 7.9ms\n",
            "video 1/1 (frame 109/214) /content/weapon-detection-with-roboflow/2gun.mp4: 352x640 (no detections), 7.2ms\n",
            "video 1/1 (frame 110/214) /content/weapon-detection-with-roboflow/2gun.mp4: 352x640 2 handguns, 7.5ms\n",
            "video 1/1 (frame 111/214) /content/weapon-detection-with-roboflow/2gun.mp4: 352x640 1 handgun, 8.5ms\n",
            "video 1/1 (frame 112/214) /content/weapon-detection-with-roboflow/2gun.mp4: 352x640 2 handguns, 7.7ms\n",
            "video 1/1 (frame 113/214) /content/weapon-detection-with-roboflow/2gun.mp4: 352x640 1 handgun, 7.3ms\n",
            "video 1/1 (frame 114/214) /content/weapon-detection-with-roboflow/2gun.mp4: 352x640 2 handguns, 7.4ms\n",
            "video 1/1 (frame 115/214) /content/weapon-detection-with-roboflow/2gun.mp4: 352x640 1 handgun, 8.1ms\n",
            "video 1/1 (frame 116/214) /content/weapon-detection-with-roboflow/2gun.mp4: 352x640 2 handguns, 7.9ms\n",
            "video 1/1 (frame 117/214) /content/weapon-detection-with-roboflow/2gun.mp4: 352x640 2 handguns, 7.4ms\n",
            "video 1/1 (frame 118/214) /content/weapon-detection-with-roboflow/2gun.mp4: 352x640 2 handguns, 9.5ms\n",
            "video 1/1 (frame 119/214) /content/weapon-detection-with-roboflow/2gun.mp4: 352x640 2 handguns, 7.8ms\n",
            "video 1/1 (frame 120/214) /content/weapon-detection-with-roboflow/2gun.mp4: 352x640 3 handguns, 7.5ms\n",
            "video 1/1 (frame 121/214) /content/weapon-detection-with-roboflow/2gun.mp4: 352x640 2 handguns, 6.9ms\n",
            "video 1/1 (frame 122/214) /content/weapon-detection-with-roboflow/2gun.mp4: 352x640 2 handguns, 8.4ms\n",
            "video 1/1 (frame 123/214) /content/weapon-detection-with-roboflow/2gun.mp4: 352x640 2 handguns, 8.8ms\n",
            "video 1/1 (frame 124/214) /content/weapon-detection-with-roboflow/2gun.mp4: 352x640 2 handguns, 7.0ms\n",
            "video 1/1 (frame 125/214) /content/weapon-detection-with-roboflow/2gun.mp4: 352x640 3 handguns, 7.0ms\n",
            "video 1/1 (frame 126/214) /content/weapon-detection-with-roboflow/2gun.mp4: 352x640 2 handguns, 8.1ms\n",
            "video 1/1 (frame 127/214) /content/weapon-detection-with-roboflow/2gun.mp4: 352x640 2 handguns, 7.6ms\n",
            "video 1/1 (frame 128/214) /content/weapon-detection-with-roboflow/2gun.mp4: 352x640 2 handguns, 6.9ms\n",
            "video 1/1 (frame 129/214) /content/weapon-detection-with-roboflow/2gun.mp4: 352x640 2 handguns, 8.0ms\n",
            "video 1/1 (frame 130/214) /content/weapon-detection-with-roboflow/2gun.mp4: 352x640 2 handguns, 7.5ms\n",
            "video 1/1 (frame 131/214) /content/weapon-detection-with-roboflow/2gun.mp4: 352x640 3 handguns, 7.2ms\n",
            "video 1/1 (frame 132/214) /content/weapon-detection-with-roboflow/2gun.mp4: 352x640 2 handguns, 8.2ms\n",
            "video 1/1 (frame 133/214) /content/weapon-detection-with-roboflow/2gun.mp4: 352x640 2 handguns, 9.1ms\n",
            "video 1/1 (frame 134/214) /content/weapon-detection-with-roboflow/2gun.mp4: 352x640 2 handguns, 7.2ms\n",
            "video 1/1 (frame 135/214) /content/weapon-detection-with-roboflow/2gun.mp4: 352x640 2 handguns, 6.7ms\n",
            "video 1/1 (frame 136/214) /content/weapon-detection-with-roboflow/2gun.mp4: 352x640 2 handguns, 11.3ms\n",
            "video 1/1 (frame 137/214) /content/weapon-detection-with-roboflow/2gun.mp4: 352x640 2 handguns, 7.5ms\n",
            "video 1/1 (frame 138/214) /content/weapon-detection-with-roboflow/2gun.mp4: 352x640 2 handguns, 6.8ms\n",
            "video 1/1 (frame 139/214) /content/weapon-detection-with-roboflow/2gun.mp4: 352x640 2 handguns, 10.2ms\n",
            "video 1/1 (frame 140/214) /content/weapon-detection-with-roboflow/2gun.mp4: 352x640 2 handguns, 7.7ms\n",
            "video 1/1 (frame 141/214) /content/weapon-detection-with-roboflow/2gun.mp4: 352x640 2 handguns, 6.8ms\n",
            "video 1/1 (frame 142/214) /content/weapon-detection-with-roboflow/2gun.mp4: 352x640 2 handguns, 8.9ms\n",
            "video 1/1 (frame 143/214) /content/weapon-detection-with-roboflow/2gun.mp4: 352x640 2 handguns, 7.8ms\n",
            "video 1/1 (frame 144/214) /content/weapon-detection-with-roboflow/2gun.mp4: 352x640 3 handguns, 7.9ms\n",
            "video 1/1 (frame 145/214) /content/weapon-detection-with-roboflow/2gun.mp4: 352x640 2 handguns, 7.0ms\n",
            "video 1/1 (frame 146/214) /content/weapon-detection-with-roboflow/2gun.mp4: 352x640 2 handguns, 6.6ms\n",
            "video 1/1 (frame 147/214) /content/weapon-detection-with-roboflow/2gun.mp4: 352x640 2 handguns, 7.8ms\n",
            "video 1/1 (frame 148/214) /content/weapon-detection-with-roboflow/2gun.mp4: 352x640 2 handguns, 7.5ms\n",
            "video 1/1 (frame 149/214) /content/weapon-detection-with-roboflow/2gun.mp4: 352x640 2 handguns, 6.8ms\n",
            "video 1/1 (frame 150/214) /content/weapon-detection-with-roboflow/2gun.mp4: 352x640 2 handguns, 7.7ms\n",
            "video 1/1 (frame 151/214) /content/weapon-detection-with-roboflow/2gun.mp4: 352x640 2 handguns, 7.5ms\n",
            "video 1/1 (frame 152/214) /content/weapon-detection-with-roboflow/2gun.mp4: 352x640 2 handguns, 7.2ms\n",
            "video 1/1 (frame 153/214) /content/weapon-detection-with-roboflow/2gun.mp4: 352x640 2 handguns, 6.7ms\n",
            "video 1/1 (frame 154/214) /content/weapon-detection-with-roboflow/2gun.mp4: 352x640 1 handgun, 8.4ms\n",
            "video 1/1 (frame 155/214) /content/weapon-detection-with-roboflow/2gun.mp4: 352x640 1 handgun, 7.7ms\n",
            "video 1/1 (frame 156/214) /content/weapon-detection-with-roboflow/2gun.mp4: 352x640 1 handgun, 7.6ms\n",
            "video 1/1 (frame 157/214) /content/weapon-detection-with-roboflow/2gun.mp4: 352x640 1 handgun, 6.9ms\n",
            "video 1/1 (frame 158/214) /content/weapon-detection-with-roboflow/2gun.mp4: 352x640 1 handgun, 8.7ms\n",
            "video 1/1 (frame 159/214) /content/weapon-detection-with-roboflow/2gun.mp4: 352x640 1 handgun, 7.3ms\n",
            "video 1/1 (frame 160/214) /content/weapon-detection-with-roboflow/2gun.mp4: 352x640 1 handgun, 7.0ms\n",
            "video 1/1 (frame 161/214) /content/weapon-detection-with-roboflow/2gun.mp4: 352x640 2 handguns, 7.0ms\n",
            "video 1/1 (frame 162/214) /content/weapon-detection-with-roboflow/2gun.mp4: 352x640 1 handgun, 8.3ms\n",
            "video 1/1 (frame 163/214) /content/weapon-detection-with-roboflow/2gun.mp4: 352x640 2 handguns, 9.7ms\n",
            "video 1/1 (frame 164/214) /content/weapon-detection-with-roboflow/2gun.mp4: 352x640 2 handguns, 7.0ms\n",
            "video 1/1 (frame 165/214) /content/weapon-detection-with-roboflow/2gun.mp4: 352x640 2 handguns, 8.2ms\n",
            "video 1/1 (frame 166/214) /content/weapon-detection-with-roboflow/2gun.mp4: 352x640 1 handgun, 9.9ms\n",
            "video 1/1 (frame 167/214) /content/weapon-detection-with-roboflow/2gun.mp4: 352x640 1 handgun, 7.1ms\n",
            "video 1/1 (frame 168/214) /content/weapon-detection-with-roboflow/2gun.mp4: 352x640 1 handgun, 8.2ms\n",
            "video 1/1 (frame 169/214) /content/weapon-detection-with-roboflow/2gun.mp4: 352x640 1 handgun, 7.7ms\n",
            "video 1/1 (frame 170/214) /content/weapon-detection-with-roboflow/2gun.mp4: 352x640 1 handgun, 7.0ms\n",
            "video 1/1 (frame 171/214) /content/weapon-detection-with-roboflow/2gun.mp4: 352x640 1 handgun, 9.3ms\n",
            "video 1/1 (frame 172/214) /content/weapon-detection-with-roboflow/2gun.mp4: 352x640 2 handguns, 8.0ms\n",
            "video 1/1 (frame 173/214) /content/weapon-detection-with-roboflow/2gun.mp4: 352x640 1 handgun, 9.1ms\n",
            "video 1/1 (frame 174/214) /content/weapon-detection-with-roboflow/2gun.mp4: 352x640 2 handguns, 6.9ms\n",
            "video 1/1 (frame 175/214) /content/weapon-detection-with-roboflow/2gun.mp4: 352x640 2 handguns, 8.1ms\n",
            "video 1/1 (frame 176/214) /content/weapon-detection-with-roboflow/2gun.mp4: 352x640 2 handguns, 7.4ms\n",
            "video 1/1 (frame 177/214) /content/weapon-detection-with-roboflow/2gun.mp4: 352x640 2 handguns, 7.7ms\n",
            "video 1/1 (frame 178/214) /content/weapon-detection-with-roboflow/2gun.mp4: 352x640 1 handgun, 7.0ms\n",
            "video 1/1 (frame 179/214) /content/weapon-detection-with-roboflow/2gun.mp4: 352x640 2 handguns, 8.1ms\n",
            "video 1/1 (frame 180/214) /content/weapon-detection-with-roboflow/2gun.mp4: 352x640 2 handguns, 11.7ms\n",
            "video 1/1 (frame 181/214) /content/weapon-detection-with-roboflow/2gun.mp4: 352x640 2 handguns, 6.9ms\n",
            "video 1/1 (frame 182/214) /content/weapon-detection-with-roboflow/2gun.mp4: 352x640 2 handguns, 7.4ms\n",
            "video 1/1 (frame 183/214) /content/weapon-detection-with-roboflow/2gun.mp4: 352x640 1 handgun, 7.7ms\n",
            "video 1/1 (frame 184/214) /content/weapon-detection-with-roboflow/2gun.mp4: 352x640 1 handgun, 7.5ms\n",
            "video 1/1 (frame 185/214) /content/weapon-detection-with-roboflow/2gun.mp4: 352x640 1 handgun, 6.8ms\n",
            "video 1/1 (frame 186/214) /content/weapon-detection-with-roboflow/2gun.mp4: 352x640 1 handgun, 10.1ms\n",
            "video 1/1 (frame 187/214) /content/weapon-detection-with-roboflow/2gun.mp4: 352x640 1 handgun, 11.6ms\n",
            "video 1/1 (frame 188/214) /content/weapon-detection-with-roboflow/2gun.mp4: 352x640 1 handgun, 6.9ms\n",
            "video 1/1 (frame 189/214) /content/weapon-detection-with-roboflow/2gun.mp4: 352x640 1 handgun, 8.0ms\n",
            "video 1/1 (frame 190/214) /content/weapon-detection-with-roboflow/2gun.mp4: 352x640 2 handguns, 9.8ms\n",
            "video 1/1 (frame 191/214) /content/weapon-detection-with-roboflow/2gun.mp4: 352x640 1 handgun, 7.2ms\n",
            "video 1/1 (frame 192/214) /content/weapon-detection-with-roboflow/2gun.mp4: 352x640 1 handgun, 8.1ms\n",
            "video 1/1 (frame 193/214) /content/weapon-detection-with-roboflow/2gun.mp4: 352x640 2 handguns, 11.5ms\n",
            "video 1/1 (frame 194/214) /content/weapon-detection-with-roboflow/2gun.mp4: 352x640 2 handguns, 10.3ms\n",
            "video 1/1 (frame 195/214) /content/weapon-detection-with-roboflow/2gun.mp4: 352x640 2 handguns, 14.1ms\n",
            "video 1/1 (frame 196/214) /content/weapon-detection-with-roboflow/2gun.mp4: 352x640 1 handgun, 10.0ms\n",
            "video 1/1 (frame 197/214) /content/weapon-detection-with-roboflow/2gun.mp4: 352x640 2 handguns, 10.5ms\n",
            "video 1/1 (frame 198/214) /content/weapon-detection-with-roboflow/2gun.mp4: 352x640 1 handgun, 8.0ms\n",
            "video 1/1 (frame 199/214) /content/weapon-detection-with-roboflow/2gun.mp4: 352x640 2 handguns, 10.0ms\n",
            "video 1/1 (frame 200/214) /content/weapon-detection-with-roboflow/2gun.mp4: 352x640 2 handguns, 14.1ms\n",
            "video 1/1 (frame 201/214) /content/weapon-detection-with-roboflow/2gun.mp4: 352x640 2 handguns, 9.3ms\n",
            "video 1/1 (frame 202/214) /content/weapon-detection-with-roboflow/2gun.mp4: 352x640 2 handguns, 8.0ms\n",
            "video 1/1 (frame 203/214) /content/weapon-detection-with-roboflow/2gun.mp4: 352x640 2 handguns, 9.1ms\n",
            "video 1/1 (frame 204/214) /content/weapon-detection-with-roboflow/2gun.mp4: 352x640 2 handguns, 8.9ms\n",
            "video 1/1 (frame 205/214) /content/weapon-detection-with-roboflow/2gun.mp4: 352x640 2 handguns, 7.9ms\n",
            "video 1/1 (frame 206/214) /content/weapon-detection-with-roboflow/2gun.mp4: 352x640 2 handguns, 10.5ms\n",
            "video 1/1 (frame 207/214) /content/weapon-detection-with-roboflow/2gun.mp4: 352x640 2 handguns, 8.1ms\n",
            "video 1/1 (frame 208/214) /content/weapon-detection-with-roboflow/2gun.mp4: 352x640 2 handguns, 8.1ms\n",
            "video 1/1 (frame 209/214) /content/weapon-detection-with-roboflow/2gun.mp4: 352x640 2 handguns, 7.8ms\n",
            "video 1/1 (frame 210/214) /content/weapon-detection-with-roboflow/2gun.mp4: 352x640 2 handguns, 8.2ms\n",
            "video 1/1 (frame 211/214) /content/weapon-detection-with-roboflow/2gun.mp4: 352x640 2 handguns, 8.0ms\n",
            "video 1/1 (frame 212/214) /content/weapon-detection-with-roboflow/2gun.mp4: 352x640 2 handguns, 12.0ms\n",
            "video 1/1 (frame 213/214) /content/weapon-detection-with-roboflow/2gun.mp4: 352x640 2 handguns, 7.8ms\n",
            "video 1/1 (frame 214/214) /content/weapon-detection-with-roboflow/2gun.mp4: 352x640 2 handguns, 8.7ms\n",
            "Speed: 2.7ms preprocess, 8.1ms inference, 4.6ms postprocess per image at shape (1, 3, 352, 640)\n",
            "Results saved to \u001b[1mruns/detect/predict4\u001b[0m\n",
            "💡 Learn more at https://docs.ultralytics.com/modes/predict\n"
          ]
        }
      ]
    }
  ]
}